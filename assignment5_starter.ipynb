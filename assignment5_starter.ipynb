{
  "cells": [
    {
      "cell_type": "code",
      "execution_count": null,
      "metadata": {
        "id": "tARpTZHGr4IZ"
      },
      "outputs": [],
      "source": [
        "import numpy as np\n",
        "import pandas as pd\n",
        "\n",
        "train_path = 'train.csv'\n",
        "test_path = 'test.csv'"
      ]
    },
    {
      "cell_type": "code",
      "execution_count": null,
      "metadata": {
        "id": "t86Em616r4Ia"
      },
      "outputs": [],
      "source": [
        "class KNN:\n",
        "    def __init__(self, k=3, distance_metric='euclidean', weights='uniform'):\n",
        "        self.k = k\n",
        "        self.distance_metric = distance_metric\n",
        "        self.weights = weights\n",
        "\n",
        "    def fit(self, X, y):\n",
        "        self.x_train = X\n",
        "        self.y_train = y\n",
        "\n",
        "    def compute_distance(self, X1, X2):\n",
        "        if self.distance_metric == 'euclidean':\n",
        "            return np.sqrt(np.sum((X1 - X2) ** 2, axis=1))\n",
        "        else:\n",
        "            raise ValueError(f\"Unsupported distance metric: {self.distance_metric}\")\n",
        "\n",
        "    def predict(self, X):\n",
        "        predictions = []\n",
        "        for x in X:\n",
        "            distances = self.compute_distance(x, self.x_train)\n",
        "            k_indices = np.argsort(distances)[:self.k]\n",
        "            k_nearest_labels = [self.y_train[i] for i in k_indices]\n",
        "\n",
        "            if self.weights == 'uniform':\n",
        "                majority_vote = np.argmax(np.bincount(k_nearest_labels))\n",
        "            elif self.weights == 'distance':\n",
        "                weights = 1 / np.array([distances[i] for i in k_indices])\n",
        "                weighted_vote = np.bincount(k_nearest_labels, weights=weights)\n",
        "                majority_vote = np.argmax(weighted_vote)\n",
        "\n",
        "            predictions.append(majority_vote)\n",
        "        return np.array(predictions)\n"
      ]
    },
    {
      "cell_type": "code",
      "execution_count": null,
      "metadata": {
        "id": "WHSOrTgvr4Ia"
      },
      "outputs": [],
      "source": [
        "\n",
        "def preprocess_data(train_path, test_path):\n",
        "    train_data = pd.read_csv(train_path)\n",
        "    test_data = pd.read_csv(test_path)\n",
        "\n",
        "    train_data = train_data.drop(columns=['id', 'CustomerId', 'Surname'], errors='ignore')\n",
        "    test_data = test_data.drop(columns=['id', 'CustomerId', 'Surname'], errors='ignore')\n",
        "\n",
        "    X_train = train_data.drop('Exited', axis=1)\n",
        "    y_train = train_data['Exited']\n",
        "\n",
        "    X_train = pd.get_dummies(X_train, drop_first=True)\n",
        "    X_test = pd.get_dummies(test_data, drop_first=True)\n",
        "\n",
        "    X_test = X_test.reindex(columns=X_train.columns, fill_value=0)\n",
        "\n",
        "    X_train_mean = X_train.mean()\n",
        "    X_train_std = X_train.std()\n",
        "\n",
        "    X_train_scaled = (X_train - X_train_mean) / X_train_std\n",
        "    X_test_scaled = (X_test - X_train_mean) / X_train_std\n",
        "\n",
        "    return X_train_scaled.to_numpy(), y_train.to_numpy(), X_test_scaled.to_numpy()\n"
      ]
    },
    {
      "cell_type": "code",
      "execution_count": null,
      "metadata": {
        "id": "3-D8sla7r4Ib"
      },
      "outputs": [],
      "source": [
        "def roc_auc(y_true, y_pred_prob):\n",
        "\n",
        "    sorted_indices = np.argsort(-y_pred_prob)\n",
        "    y_true_sorted = y_true[sorted_indices]\n",
        "\n",
        "\n",
        "    tpr = np.cumsum(y_true_sorted == 1) / np.sum(y_true == 1)\n",
        "    fpr = np.cumsum(y_true_sorted == 0) / np.sum(y_true == 0)\n",
        "\n",
        "\n",
        "    auc = np.trapz(tpr, fpr)\n",
        "\n",
        "    return auc\n",
        "\n",
        "def cross_validate(X, y, knn, n_splits=5):\n",
        "\n",
        "    indices = np.arange(len(X))\n",
        "    np.random.shuffle(indices)\n",
        "\n",
        "\n",
        "    fold_size = len(X) // n_splits\n",
        "    roc_auc_scores = []\n",
        "\n",
        "    for fold in range(n_splits):\n",
        "\n",
        "        start = fold * fold_size\n",
        "        end = (fold + 1) * fold_size\n",
        "        val_idx = indices[start:end]\n",
        "        train_idx = np.concatenate([indices[:start], indices[end:]])\n",
        "\n",
        "\n",
        "        X_train, X_val = X[train_idx], X[val_idx]\n",
        "        y_train, y_val = y[train_idx], y[val_idx]\n",
        "\n",
        "\n",
        "        knn.fit(X_train, y_train)\n",
        "\n",
        "\n",
        "        y_pred_prob = knn.predict(X_val)\n",
        "\n",
        "\n",
        "        roc_score = roc_auc(y_val, y_pred_prob)\n",
        "        roc_auc_scores.append(roc_score)\n",
        "\n",
        "\n",
        "    return np.mean(roc_auc_scores)\n"
      ]
    },
    {
      "cell_type": "code",
      "execution_count": null,
      "metadata": {
        "colab": {
          "base_uri": "https://localhost:8080/"
        },
        "id": "odH0YiQzr4Ib",
        "outputId": "06ab4917-1552-40ec-8a33-7b93e66c5e84"
      },
      "outputs": [
        {
          "output_type": "stream",
          "name": "stdout",
          "text": [
            "Cross-validation scores: 0.7634035693891222\n",
            "k=1, Cross-validation score=0.7517532585475412\n",
            "k=3, Cross-validation score=0.7589690946556742\n",
            "k=5, Cross-validation score=0.7561874840792383\n",
            "k=7, Cross-validation score=0.7666173213392347\n",
            "k=9, Cross-validation score=0.7671586558179382\n"
          ]
        }
      ],
      "source": [
        "def find_bestk(X, y, max_k=20):\n",
        "  best_k = None\n",
        "  best_score = 0\n",
        "  for k in range(1, 10, 2):\n",
        "      knn = KNN(k=k, distance_metric='euclidean')\n",
        "      cv_score = cross_validate(X, y, knn)\n",
        "      print(f'k={k}, Cross-validation score={cv_score}')\n",
        "      if cv_score > best_score:\n",
        "          best_score = cv_score\n",
        "          best_k = k\n",
        "\n",
        "  return best_k, best_score\n",
        "\n",
        "# Load and preprocess data\n",
        "X, y, X_test = preprocess_data('train.csv', 'test.csv')\n",
        "\n",
        "# Create and evaluate model\n",
        "knn = KNN(k=5, distance_metric='euclidean')\n",
        "\n",
        "# Perform cross-validation\n",
        "cv_scores = cross_validate(X, y, knn)\n",
        "\n",
        "print(\"Cross-validation scores:\", cv_scores)\n",
        "\n",
        "# TODO: hyperparamters tuning\n",
        "best_k, best_score = find_bestk(X, y)\n",
        "\n",
        "\n",
        "# TODO: Train on full dataset with optimal hyperparameters and make predictions on test set\n",
        "knn = KNN(k=best_k)\n",
        "knn.fit(X, y)\n",
        "test_predictions = knn.predict(X_test)\n",
        "\n",
        "# Save test predictions\n",
        "pd.DataFrame({'id': pd.read_csv('test.csv')['id'], 'Exited': test_predictions}).to_csv('submissions.csv', index=False)"
      ]
    }
  ],
  "metadata": {
    "kernelspec": {
      "display_name": "cs506",
      "language": "python",
      "name": "python3"
    },
    "language_info": {
      "codemirror_mode": {
        "name": "ipython",
        "version": 3
      },
      "file_extension": ".py",
      "mimetype": "text/x-python",
      "name": "python",
      "nbconvert_exporter": "python",
      "pygments_lexer": "ipython3",
      "version": "3.10.15"
    },
    "colab": {
      "provenance": []
    }
  },
  "nbformat": 4,
  "nbformat_minor": 0
}